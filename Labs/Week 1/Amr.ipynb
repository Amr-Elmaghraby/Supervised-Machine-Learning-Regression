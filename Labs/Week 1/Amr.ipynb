{
 "cells": [
  {
   "cell_type": "code",
   "execution_count": 1,
   "id": "4dce2652",
   "metadata": {},
   "outputs": [
    {
     "name": "stdout",
     "output_type": "stream",
     "text": [
      "  Amr ELmaghraby is THE TrRuee King ^_^ YAEeeeeeh THE TrRuee King ^_^\n",
      "  Yaeeeeeeeeh\n",
      "  Yaeeeeeeeeh\n",
      "  Yaeeeeeeeeh\n"
     ]
    }
   ],
   "source": [
    "x = \"THE TrRuee King ^_^\"\n",
    "print(f\"  Amr ELmaghraby is {x} \" + f\"YAEeeeeeh {x}\")\n",
    "print(\"  Yaeeeeeeeeh\")\n",
    "print(\"  Yaeeeeeeeeh\")\n",
    "print(\"  Yaeeeeeeeeh\")"
   ]
  },
  {
   "cell_type": "code",
   "execution_count": null,
   "id": "73d7a3ef",
   "metadata": {},
   "outputs": [],
   "source": []
  }
 ],
 "metadata": {
  "kernelspec": {
   "display_name": "Python 3 (ipykernel)",
   "language": "python",
   "name": "python3"
  },
  "language_info": {
   "codemirror_mode": {
    "name": "ipython",
    "version": 3
   },
   "file_extension": ".py",
   "mimetype": "text/x-python",
   "name": "python",
   "nbconvert_exporter": "python",
   "pygments_lexer": "ipython3",
   "version": "3.11.1"
  }
 },
 "nbformat": 4,
 "nbformat_minor": 5
}
